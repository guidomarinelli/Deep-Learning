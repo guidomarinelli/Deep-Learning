{
 "cells": [
  {
   "cell_type": "markdown",
   "id": "01801784-1c86-4b54-9fa2-7bac00bbc7cf",
   "metadata": {},
   "source": [
    "# Introduction to Tensors and TensorFlow\n",
    "\n",
    "**Author:** [Guido Marinelli](https://github.com/GuidoMarinelli/)<br>\n",
    "**Date created:** 2023/08/17<br>\n",
    "**Last modified:** 2023/08/17<br>\n",
    "**Description:** Basic concepts about Tensors and computation in TensorFlow.<br>"
   ]
  },
  {
   "cell_type": "markdown",
   "id": "2991eb51-2399-487a-90da-9708ea6a2f03",
   "metadata": {},
   "source": [
    "## Copyright Information"
   ]
  },
  {
   "cell_type": "markdown",
   "id": "ab25173a-bd5c-4731-8559-d7d9a55a021b",
   "metadata": {},
   "source": [
    "This notebook is a review of the lab exercises of the MIT course: `Introduction to Deep Learning 6.S191`"
   ]
  },
  {
   "cell_type": "code",
   "execution_count": 1,
   "id": "dcc27038-6604-47be-a657-73508f118373",
   "metadata": {},
   "outputs": [],
   "source": [
    "# Copyright 2023 MIT Introduction to Deep Learning. All Rights Reserved.\n",
    "# \n",
    "# Licensed under the MIT License. You may not use this file except in compliance\n",
    "# with the License. Use and/or modification of this code outside of MIT Introduction\n",
    "# to Deep Learning must reference:\n",
    "#\n",
    "# © MIT Introduction to Deep Learning\n",
    "# http://introtodeeplearning.com\n",
    "#"
   ]
  },
  {
   "cell_type": "markdown",
   "id": "6b9e0257-50dd-48dc-848b-361a8b6a6313",
   "metadata": {},
   "source": [
    "## Setup"
   ]
  },
  {
   "cell_type": "code",
   "execution_count": 2,
   "id": "e433ec94-571b-434d-85a0-1f1ef95cc1eb",
   "metadata": {},
   "outputs": [
    {
     "name": "stderr",
     "output_type": "stream",
     "text": [
      "2023-08-17 18:02:53.946797: I tensorflow/core/platform/cpu_feature_guard.cc:182] This TensorFlow binary is optimized to use available CPU instructions in performance-critical operations.\n",
      "To enable the following instructions: AVX2 FMA, in other operations, rebuild TensorFlow with the appropriate compiler flags.\n"
     ]
    },
    {
     "name": "stdout",
     "output_type": "stream",
     "text": [
      "2.13.0\n"
     ]
    }
   ],
   "source": [
    "import tensorflow as tf\n",
    "print(tf.__version__)\n",
    "\n",
    "import numpy as np\n",
    "import matplotlib.pyplot as plt"
   ]
  },
  {
   "cell_type": "markdown",
   "id": "688da706-70d6-4ebd-b32a-c9f1c92995aa",
   "metadata": {},
   "source": [
    "## Type of Tensor"
   ]
  },
  {
   "cell_type": "markdown",
   "id": "8b19bd87-e29e-4976-9d2d-59ccbfd10bf6",
   "metadata": {},
   "source": [
    "Tensors are data structures that almost always contain numbers. \n",
    "\n",
    "A tensor is defined by three key attributes.\n",
    "* The ```shape``` of a Tensor defines its number of dimensions and the size of each dimension.\n",
    "* The ```rank``` of a Tensor provides the number of dimensions (n-dimensions).\n",
    "* The ```data type``` defines the type of data contained in the Tensor."
   ]
  },
  {
   "cell_type": "markdown",
   "id": "217c75cb-d42f-442c-9658-5f18cf99ba55",
   "metadata": {},
   "source": [
    "### 0D Tensors\n",
    "Let's first look at 0D Tensors, of which a scalar is an example:"
   ]
  },
  {
   "cell_type": "code",
   "execution_count": 3,
   "id": "f44416a4-e980-40b3-8f30-98b233f19759",
   "metadata": {},
   "outputs": [
    {
     "name": "stdout",
     "output_type": "stream",
     "text": [
      "`greeting` is a 0D Tensor\n",
      "`number` is a 0D Tensor\n"
     ]
    },
    {
     "name": "stderr",
     "output_type": "stream",
     "text": [
      "2023-08-17 18:02:57.554874: I metal_plugin/src/device/metal_device.cc:1154] Metal device set to: AMD Radeon Pro Vega 56\n",
      "2023-08-17 18:02:57.554907: I metal_plugin/src/device/metal_device.cc:296] systemMemory: 32.00 GB\n",
      "2023-08-17 18:02:57.554914: I metal_plugin/src/device/metal_device.cc:313] maxCacheSize: 3.99 GB\n",
      "2023-08-17 18:02:57.554962: I tensorflow/core/common_runtime/pluggable_device/pluggable_device_factory.cc:303] Could not identify NUMA node of platform GPU ID 0, defaulting to 0. Your kernel may not have been built with NUMA support.\n",
      "2023-08-17 18:02:57.554992: I tensorflow/core/common_runtime/pluggable_device/pluggable_device_factory.cc:269] Created TensorFlow device (/job:localhost/replica:0/task:0/device:GPU:0 with 0 MB memory) -> physical PluggableDevice (device: 0, name: METAL, pci bus id: <undefined>)\n"
     ]
    }
   ],
   "source": [
    "greeting = tf.constant(\"Hello Tensorflow\", tf.string)\n",
    "number = tf.constant(2.718281828459, tf.float64)\n",
    "\n",
    "print(f\"`greeting` is a {tf.rank(greeting).numpy()}D Tensor\")\n",
    "print(f\"`number` is a {tf.rank(number).numpy()}D Tensor\")"
   ]
  },
  {
   "cell_type": "markdown",
   "id": "6559d72c-bd67-443a-908f-4de3921b279f",
   "metadata": {},
   "source": [
    "### 1D Tensors\n",
    "Vectors and lists can be used to create 1D Tensors:"
   ]
  },
  {
   "cell_type": "code",
   "execution_count": 4,
   "id": "16914d45-9d9e-447f-891e-63daa3c79d72",
   "metadata": {},
   "outputs": [
    {
     "name": "stdout",
     "output_type": "stream",
     "text": [
      "`greetings` is a 1D Tensor\n",
      "`numbers` is a 1D Tensor\n"
     ]
    }
   ],
   "source": [
    "greetings = tf.constant([\"Hello Tensorflow\", \"Hello Deep Learning\"], tf.string)\n",
    "numbers = tf.constant(np.array([2.71828182846, 3.14159265359]), tf.float64)\n",
    "\n",
    "print(f\"`greetings` is a {tf.rank(greetings).numpy()}D Tensor\")\n",
    "print(f\"`numbers` is a {tf.rank(numbers).numpy()}D Tensor\")"
   ]
  },
  {
   "cell_type": "markdown",
   "id": "7894dea8-2bc3-4777-a953-58dc69671012",
   "metadata": {},
   "source": [
    "### 2D Tensors and Higher-order Tensors \n",
    "Consider the creation of 2D (i.e. matrices) and higher rank Tensors. In image processing and computer vision, 4D Tensors, the dimensions correspond to the number of sample images in our batch, image height, image width,  and the number of color channels."
   ]
  },
  {
   "cell_type": "code",
   "execution_count": 5,
   "id": "976f925b-a0d6-4e60-8ad4-78338a3c6c08",
   "metadata": {},
   "outputs": [],
   "source": [
    "matrix = tf.constant([[1.0, 2.0, 3.0, 4.0],\n",
    "                      [6.0, 7.0, 8.0, 9.0]], tf.float64)\n",
    "\n",
    "assert isinstance(matrix, tf.Tensor), \"matrix must be a tf Tensor object\"\n",
    "assert tf.rank(matrix).numpy() == 2"
   ]
  },
  {
   "cell_type": "code",
   "execution_count": 6,
   "id": "27fe2c06-c9f8-4c8b-bc98-407e16866440",
   "metadata": {},
   "outputs": [],
   "source": [
    "# Use tf.zeros to initialize a 4-d Tensor of zeros with size 10 x 256 x 256 x 3. \n",
    "# You can think of this as 10 images where each image is RGB 256 x 256.\n",
    "images = tf.zeros([10, 256, 256, 3])\n",
    "\n",
    "assert isinstance(images, tf.Tensor), \"matrix must be a tf Tensor object\"\n",
    "assert tf.rank(images).numpy() == 4, \"matrix must be of rank 4\"\n",
    "assert tf.shape(images).numpy().tolist() == [10, 256, 256, 3], \"matrix is incorrect shape\""
   ]
  },
  {
   "cell_type": "markdown",
   "id": "0a170734-0b32-4afb-a584-571b86236942",
   "metadata": {},
   "source": [
    "Use slicing to access subtensors within a higher-rank Tensor:"
   ]
  },
  {
   "cell_type": "code",
   "execution_count": 7,
   "id": "1c0b2d45-7d10-4f7a-958b-8cf52edcb1a3",
   "metadata": {},
   "outputs": [
    {
     "name": "stdout",
     "output_type": "stream",
     "text": [
      "`row_vector`: [6. 7. 8. 9.]\n",
      "`column_vector`: [2. 7.]\n",
      "`scalar`: 2.0\n"
     ]
    }
   ],
   "source": [
    "row_vector = matrix[1]\n",
    "column_vector = matrix[:, 1]\n",
    "scalar = matrix[0, 1]\n",
    "\n",
    "print(f\"`row_vector`: {row_vector.numpy()}\")\n",
    "print(f\"`column_vector`: {column_vector.numpy()}\")\n",
    "print(f\"`scalar`: {scalar.numpy()}\")"
   ]
  },
  {
   "cell_type": "markdown",
   "id": "eb7d5437-e731-49ed-9a04-d37b55df2356",
   "metadata": {},
   "source": [
    "## Computations on Tensors"
   ]
  },
  {
   "cell_type": "markdown",
   "id": "f2af9a6d-0c84-4b3c-9ab0-747e4a640248",
   "metadata": {},
   "source": [
    "A convenient way to think about and visualize computations in TensorFlow is in terms of graphs. We can define this graph in terms of Tensors, which hold data, and the mathematical operations that act on these Tensors in some order. \n",
    "\n",
    "Let's look at a simple example:\n",
    "\n",
    "![alt text](https://raw.githubusercontent.com/aamini/introtodeeplearning/master/lab1/img/computation-graph.png)\n",
    "\n",
    "Here, we take two inputs, `a, b`, and compute an output `e`. Each node in the graph represents an operation that takes some input, does some computation, and passes its output to another node.\n",
    "\n",
    "Let's define a simple function in TensorFlow to construct this computation function:"
   ]
  },
  {
   "cell_type": "code",
   "execution_count": 8,
   "id": "e9c24cef-919b-43a9-9048-2f6d9fb6a5f4",
   "metadata": {},
   "outputs": [],
   "source": [
    "def func(a, b):\n",
    "    '''Simple computation function on tensor.'''\n",
    "    c = tf.add(a, b)\n",
    "    d = tf.subtract(b, 1)\n",
    "    e = tf.multiply(c, d)\n",
    "    return e"
   ]
  },
  {
   "cell_type": "markdown",
   "id": "3c262171-f27b-4f7c-9a4d-029e4dcc7bdb",
   "metadata": {},
   "source": [
    "Let's call the function to execute the computation graph given some inputs `a,b`:"
   ]
  },
  {
   "cell_type": "code",
   "execution_count": 9,
   "id": "3ce670e9-a52d-4464-9f23-69e28023147a",
   "metadata": {},
   "outputs": [
    {
     "name": "stdout",
     "output_type": "stream",
     "text": [
      "tf.Tensor(6.0, shape=(), dtype=float32)\n"
     ]
    }
   ],
   "source": [
    "# Consider example values for a, b\n",
    "a, b = 1.5, 2.5\n",
    "\n",
    "# Execute the computation\n",
    "e_out = func(a,b)\n",
    "print(e_out)"
   ]
  },
  {
   "cell_type": "markdown",
   "id": "0e9f5b96-d75c-4753-932c-4f2e9c23dd12",
   "metadata": {},
   "source": [
    "Notice how our output is a Tensor with value defined by the output of the computation, and that the output has no shape as it is a single scalar value."
   ]
  }
 ],
 "metadata": {
  "kernelspec": {
   "display_name": "Python [conda env:tf]",
   "language": "python",
   "name": "conda-env-tf-py"
  },
  "language_info": {
   "codemirror_mode": {
    "name": "ipython",
    "version": 3
   },
   "file_extension": ".py",
   "mimetype": "text/x-python",
   "name": "python",
   "nbconvert_exporter": "python",
   "pygments_lexer": "ipython3",
   "version": "3.11.4"
  }
 },
 "nbformat": 4,
 "nbformat_minor": 5
}
